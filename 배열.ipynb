{
 "cells": [
  {
   "cell_type": "code",
   "execution_count": 1,
   "id": "f72db225",
   "metadata": {
    "ExecuteTime": {
     "end_time": "2021-11-29T23:05:57.980155Z",
     "start_time": "2021-11-29T23:05:57.971157Z"
    }
   },
   "outputs": [],
   "source": [
    "from typing import Dict, List"
   ]
  },
  {
   "cell_type": "markdown",
   "id": "83de5eb9",
   "metadata": {},
   "source": [
    "# 배열"
   ]
  },
  {
   "cell_type": "markdown",
   "id": "3a49b739",
   "metadata": {},
   "source": [
    "## 두 수의 합 찾기"
   ]
  },
  {
   "cell_type": "markdown",
   "id": "362e2a37",
   "metadata": {},
   "source": [
    "정수형 배열에서 2개의 숫자를 선택하여 더한 값이 특정 target을 만들때, 선택한 2개의 정수가 있는 배열의 인덱스 반환\n",
    "- 입력값 : nums = [2, 7, 10, 19], target = 9\n",
    "- 출력값 : [0, 1]"
   ]
  },
  {
   "cell_type": "code",
   "execution_count": 17,
   "id": "0975032e",
   "metadata": {
    "ExecuteTime": {
     "end_time": "2021-11-23T23:45:57.755775Z",
     "start_time": "2021-11-23T23:45:57.741777Z"
    }
   },
   "outputs": [],
   "source": [
    "nums = [2, 7, 10, 19]\n",
    "target = 9"
   ]
  },
  {
   "cell_type": "code",
   "execution_count": 22,
   "id": "8622b7e0",
   "metadata": {
    "ExecuteTime": {
     "end_time": "2021-11-23T23:46:36.098775Z",
     "start_time": "2021-11-23T23:46:36.085780Z"
    }
   },
   "outputs": [],
   "source": [
    "# Brute-Force : O(n2)\n",
    "\n",
    "def twoSum(nums: List[int], target: int) -> List[int]:\n",
    "    for i in range(len(nums)):\n",
    "        for j in range(i+1, len(nums)):\n",
    "            if nums[i] + nums[j] == target:\n",
    "                return [i, j]"
   ]
  },
  {
   "cell_type": "code",
   "execution_count": 23,
   "id": "76c17d68",
   "metadata": {
    "ExecuteTime": {
     "end_time": "2021-11-23T23:46:36.736137Z",
     "start_time": "2021-11-23T23:46:36.725139Z"
    }
   },
   "outputs": [
    {
     "data": {
      "text/plain": [
       "[0, 1]"
      ]
     },
     "execution_count": 23,
     "metadata": {},
     "output_type": "execute_result"
    }
   ],
   "source": [
    "twoSum(nums, target)"
   ]
  },
  {
   "cell_type": "code",
   "execution_count": 24,
   "id": "c9b0dec1",
   "metadata": {
    "ExecuteTime": {
     "end_time": "2021-11-23T23:48:36.202919Z",
     "start_time": "2021-11-23T23:48:36.197921Z"
    }
   },
   "outputs": [],
   "source": [
    "# Hash Table : O(n)\n",
    "def twoSum(nums: List[int], target: int) -> List[int]:\n",
    "    hash_table = {}\n",
    "\n",
    "    for i in range(0, len(nums)):\n",
    "        value = target - nums[i]\n",
    "\n",
    "        if hash_table.get(value) is not None and hash_table[value] != i:\n",
    "            return sorted([i, hash_table[value]])\n",
    "\n",
    "        hash_table[nums[i]] = i"
   ]
  },
  {
   "cell_type": "code",
   "execution_count": 25,
   "id": "f1767ef9",
   "metadata": {
    "ExecuteTime": {
     "end_time": "2021-11-23T23:48:43.034000Z",
     "start_time": "2021-11-23T23:48:43.028999Z"
    }
   },
   "outputs": [
    {
     "data": {
      "text/plain": [
       "(0, 1)"
      ]
     },
     "execution_count": 25,
     "metadata": {},
     "output_type": "execute_result"
    }
   ],
   "source": [
    "towSum(nums, target)"
   ]
  },
  {
   "cell_type": "markdown",
   "id": "95ce836c",
   "metadata": {},
   "source": [
    "## 정렬된 배열에서 중복 제거"
   ]
  },
  {
   "cell_type": "markdown",
   "id": "a10100d1",
   "metadata": {},
   "source": [
    "정렬된 배열의 요소들을 중복 없이 단 1번만 가질 수 있또록 주어진 배열 그대로(in-place) 수정하고, 수정된 배열의 새로운 길이 반환\n",
    "- nums=[0, 0, 0, 1, 2, 2, 2]\n",
    "- answer = 3"
   ]
  },
  {
   "cell_type": "code",
   "execution_count": 27,
   "id": "1a3d86c2",
   "metadata": {
    "ExecuteTime": {
     "end_time": "2021-11-23T23:59:55.940144Z",
     "start_time": "2021-11-23T23:59:55.933145Z"
    }
   },
   "outputs": [],
   "source": [
    "# Bruet-force : O(n) - 배열 모든 요소 n개 순환 필요\n",
    "def removeDuplicate(nums: List[int]) -> int:\n",
    "    if len(nums) <= 0:\n",
    "        return 0\n",
    "\n",
    "    curr = nums[0]\n",
    "    cnt = 1\n",
    "\n",
    "    for i in range(1, len(nums)):\n",
    "        if curr != nums[i]:\n",
    "            curr = nums[i]\n",
    "            nums[cnt] = curr\n",
    "            cnt += 1\n",
    "\n",
    "    return cnt"
   ]
  },
  {
   "cell_type": "code",
   "execution_count": 28,
   "id": "1d7d8cee",
   "metadata": {
    "ExecuteTime": {
     "end_time": "2021-11-24T00:00:02.546834Z",
     "start_time": "2021-11-24T00:00:02.532836Z"
    }
   },
   "outputs": [
    {
     "data": {
      "text/plain": [
       "4"
      ]
     },
     "execution_count": 28,
     "metadata": {},
     "output_type": "execute_result"
    }
   ],
   "source": [
    "removeDuplicate(nums)"
   ]
  },
  {
   "cell_type": "markdown",
   "id": "b4b29bee",
   "metadata": {},
   "source": [
    "## 배열에서 삽입 위치 찾기"
   ]
  },
  {
   "cell_type": "markdown",
   "id": "eb9abcb4",
   "metadata": {},
   "source": [
    "정렬된 배열과 목표값(target)이 주어지는데 목푯값을 찾는다면 배열의 해당 인덱스를 반환하고, 찾지 못한다면 정렬된 배열이 되도록 목표값이 배열에 들어가야 하는 인덱스를 구하는 문제\n",
    "- 입력값 : nums = [1, 2, 3, 4, 5], target = 3\n",
    "- 출력값 : 2\n",
    "\n",
    "- 입력값 : nums = [1, 4, 5, 6], target = 3\n",
    "- 출력값 : 1"
   ]
  },
  {
   "cell_type": "code",
   "execution_count": 6,
   "id": "6671635e",
   "metadata": {
    "ExecuteTime": {
     "end_time": "2021-11-28T23:28:07.335667Z",
     "start_time": "2021-11-28T23:28:07.330658Z"
    }
   },
   "outputs": [],
   "source": [
    "# Brute-force : O(N)\n",
    "\n",
    "def searchIndex(nums: List[int], target: int) -> int:\n",
    "    index = 0\n",
    "\n",
    "    while index < len(nums):\n",
    "        if target <= nums[index]:\n",
    "            break\n",
    "\n",
    "        index += 1\n",
    "\n",
    "    return index"
   ]
  },
  {
   "cell_type": "code",
   "execution_count": 7,
   "id": "1f2b9f33",
   "metadata": {
    "ExecuteTime": {
     "end_time": "2021-11-28T23:28:07.759585Z",
     "start_time": "2021-11-28T23:28:07.745714Z"
    }
   },
   "outputs": [],
   "source": [
    "# Hash Table\n",
    "\n",
    "def searchInsert(nums: List[int], target: int) -> int:\n",
    "    low = 0\n",
    "    high = len(nums) - 1\n",
    "\n",
    "    while low <= high:\n",
    "        mid = int((low+high)/2)\n",
    "\n",
    "        if target == nums[mid]:\n",
    "            return mid\n",
    "        if target > nums[mid]:\n",
    "            low = mid + 1\n",
    "        else:\n",
    "            high = mid - 1\n",
    "\n",
    "    return low"
   ]
  },
  {
   "cell_type": "code",
   "execution_count": 5,
   "id": "89374a77",
   "metadata": {
    "ExecuteTime": {
     "end_time": "2021-11-28T23:28:04.297364Z",
     "start_time": "2021-11-28T23:28:04.282364Z"
    }
   },
   "outputs": [
    {
     "data": {
      "text/plain": [
       "2"
      ]
     },
     "execution_count": 5,
     "metadata": {},
     "output_type": "execute_result"
    }
   ],
   "source": [
    "searchInsert(nums=[1, 3, 5, 7, 10], target=4)"
   ]
  },
  {
   "cell_type": "markdown",
   "id": "691c5a3c",
   "metadata": {},
   "source": [
    "## 정렬된 배열 병합"
   ]
  },
  {
   "cell_type": "markdown",
   "id": "a8e5b87c",
   "metadata": {},
   "source": [
    "주어진 정렬된 두 배열(nums1, nums2)을 정렬을 유지하면서 병합해보자\n",
    "- nums1과 nums2의 각각 크기는 m과 n개의 요소로 초기화되어 있다\n",
    "- nums1은 nums1과 nums2를 병합하기에 충분한 크기로 할당되어 있다(m+n)"
   ]
  },
  {
   "cell_type": "code",
   "execution_count": 27,
   "id": "e60516d1",
   "metadata": {
    "ExecuteTime": {
     "end_time": "2021-11-29T23:23:11.974384Z",
     "start_time": "2021-11-29T23:23:11.963389Z"
    }
   },
   "outputs": [],
   "source": [
    "# 정렬 : O(NlogN)\n",
    "def merge(nums1: List[int], m: int, nums2: List[int], n: int) -> List[int]:\n",
    "\n",
    "    for i, v in enumerate(nums2):\n",
    "        nums1[m+i] = v\n",
    "\n",
    "    nums1[:] = sorted(nums1)\n",
    "    return nums1"
   ]
  },
  {
   "cell_type": "code",
   "execution_count": 40,
   "id": "438ec5dc",
   "metadata": {
    "ExecuteTime": {
     "end_time": "2021-11-29T23:27:22.867633Z",
     "start_time": "2021-11-29T23:27:22.851635Z"
    }
   },
   "outputs": [],
   "source": [
    "# 비교 삽입 : O(N+M)\n",
    "def merge(nums1: List[int], m: int, nums2: List[int], n: int) -> List[int]:\n",
    "    i = m-1\n",
    "    j = n-1\n",
    "    k = m+n-1\n",
    "\n",
    "    while i >= 0 and j >= 0:\n",
    "        if nums1[i] < nums2[j]:\n",
    "            nums1[k] = nums2[j]\n",
    "            j -= 1\n",
    "        else:\n",
    "            nums1[k] = nums1[i]\n",
    "            i -= 1\n",
    "        k -= 1\n",
    "\n",
    "    while j >= 0:\n",
    "        nums1[k] = nums2[j]\n",
    "        k -= 1\n",
    "        j -= 1\n",
    "        \n",
    "    return nums1"
   ]
  },
  {
   "cell_type": "code",
   "execution_count": 41,
   "id": "0e147cd0",
   "metadata": {
    "ExecuteTime": {
     "end_time": "2021-11-29T23:27:23.086364Z",
     "start_time": "2021-11-29T23:27:23.075364Z"
    }
   },
   "outputs": [
    {
     "data": {
      "text/plain": [
       "[1, 2, 3]"
      ]
     },
     "execution_count": 41,
     "metadata": {},
     "output_type": "execute_result"
    }
   ],
   "source": [
    "merge(nums1=[1, 2, 3], m=3, nums2=[], n=0)"
   ]
  },
  {
   "cell_type": "code",
   "execution_count": 42,
   "id": "95b1c51e",
   "metadata": {
    "ExecuteTime": {
     "end_time": "2021-11-29T23:27:23.292488Z",
     "start_time": "2021-11-29T23:27:23.283491Z"
    }
   },
   "outputs": [
    {
     "data": {
      "text/plain": [
       "[1, 2, 3]"
      ]
     },
     "execution_count": 42,
     "metadata": {},
     "output_type": "execute_result"
    }
   ],
   "source": [
    "merge(nums1=[0, 0, 0], m=0, nums2=[1, 2, 3], n=3)"
   ]
  },
  {
   "cell_type": "code",
   "execution_count": 43,
   "id": "d2e3658a",
   "metadata": {
    "ExecuteTime": {
     "end_time": "2021-11-29T23:27:23.480488Z",
     "start_time": "2021-11-29T23:27:23.475489Z"
    }
   },
   "outputs": [
    {
     "data": {
      "text/plain": [
       "[1, 2, 3, 4, 5, 6]"
      ]
     },
     "execution_count": 43,
     "metadata": {},
     "output_type": "execute_result"
    }
   ],
   "source": [
    "merge(nums1=[1, 2, 3, 0, 0, 0], m=3, nums2=[4, 5, 6], n=3)"
   ]
  },
  {
   "cell_type": "code",
   "execution_count": 44,
   "id": "f0fb9629",
   "metadata": {
    "ExecuteTime": {
     "end_time": "2021-11-29T23:27:23.979682Z",
     "start_time": "2021-11-29T23:27:23.970683Z"
    }
   },
   "outputs": [
    {
     "data": {
      "text/plain": [
       "[1, 2, 3, 4, 5, 6]"
      ]
     },
     "execution_count": 44,
     "metadata": {},
     "output_type": "execute_result"
    }
   ],
   "source": [
    "merge(nums1=[4, 5, 6, 0, 0, 0], m=3, nums2=[1, 2, 3], n=3)"
   ]
  },
  {
   "cell_type": "markdown",
   "id": "d4647e9a",
   "metadata": {},
   "source": [
    "## 정렬된 배열의 정합 II"
   ]
  },
  {
   "cell_type": "markdown",
   "id": "143fff44",
   "metadata": {},
   "source": [
    "정렬된 배열 nums1과 nums2가 주어지고, 각각의 크기는 m과 n이다. 정렬을 유지하면서 nums1 배열부터 채워나가 nums2까지 확장\n",
    "- m+n크기 만큼 공간은 있지 않다\n",
    "- nums1 배열에 nums1과 nums2의 모든 요소를 작은 수부터 채워나가고 nums2에는 나머지를 정렬을 유지하며 넣기\n",
    "- 추가 배열 할당 없이 문제 해결 필요"
   ]
  },
  {
   "cell_type": "code",
   "execution_count": 51,
   "id": "90e79659",
   "metadata": {
    "ExecuteTime": {
     "end_time": "2021-11-29T23:48:50.874902Z",
     "start_time": "2021-11-29T23:48:50.860902Z"
    }
   },
   "outputs": [],
   "source": [
    "def merge(nums1: List[int], m: int, nums2: List[int], n: int) -> List[int]:\n",
    "    \n",
    "    for i, nums1_item in enumerate(nums1):\n",
    "        if nums1_item > nums2[0]:\n",
    "            nums1[i], nums2[0] = nums2[0], nums1_item\n",
    "            \n",
    "            for k, item in enumerate(nums2[1:], start=1):\n",
    "                if nums1_item <= item:\n",
    "                    nums2[k-1] = nums1_item\n",
    "                    break\n",
    "                    \n",
    "                nums2[k-1] = nums2[k]\n",
    "    return nums1, nums2"
   ]
  },
  {
   "cell_type": "code",
   "execution_count": 52,
   "id": "a43aeb57",
   "metadata": {
    "ExecuteTime": {
     "end_time": "2021-11-29T23:48:51.063789Z",
     "start_time": "2021-11-29T23:48:51.060789Z"
    }
   },
   "outputs": [
    {
     "data": {
      "text/plain": [
       "([0, 1, 2], [2, 3, 3])"
      ]
     },
     "execution_count": 52,
     "metadata": {},
     "output_type": "execute_result"
    }
   ],
   "source": [
    "merge(nums1=[0, 4, 2], m=0, nums2=[1, 2, 3], n=3)"
   ]
  },
  {
   "cell_type": "code",
   "execution_count": null,
   "id": "4de5236b",
   "metadata": {},
   "outputs": [],
   "source": []
  },
  {
   "cell_type": "code",
   "execution_count": null,
   "id": "3e77546d",
   "metadata": {},
   "outputs": [],
   "source": []
  }
 ],
 "metadata": {
  "kernelspec": {
   "display_name": "cv",
   "language": "python",
   "name": "cv"
  },
  "language_info": {
   "codemirror_mode": {
    "name": "ipython",
    "version": 3
   },
   "file_extension": ".py",
   "mimetype": "text/x-python",
   "name": "python",
   "nbconvert_exporter": "python",
   "pygments_lexer": "ipython3",
   "version": "3.9.7"
  },
  "toc": {
   "base_numbering": 1,
   "nav_menu": {},
   "number_sections": true,
   "sideBar": true,
   "skip_h1_title": false,
   "title_cell": "Table of Contents",
   "title_sidebar": "Contents",
   "toc_cell": false,
   "toc_position": {},
   "toc_section_display": true,
   "toc_window_display": false
  }
 },
 "nbformat": 4,
 "nbformat_minor": 5
}
